{
 "cells": [
  {
   "cell_type": "markdown",
   "metadata": {},
   "source": [
    "## Members"
   ]
  },
  {
   "cell_type": "markdown",
   "metadata": {},
   "source": [
    "### Pre-processing"
   ]
  },
  {
   "cell_type": "code",
   "execution_count": 1,
   "metadata": {},
   "outputs": [],
   "source": [
    "import matplotlib.pyplot as plt\n",
    "import numpy as np\n",
    "import pandas as pd\n",
    "import re\n",
    "\n",
    "from vncorenlp import VnCoreNLP"
   ]
  },
  {
   "cell_type": "code",
   "execution_count": 43,
   "metadata": {},
   "outputs": [],
   "source": [
    "vncorenlp_file = \"VnCoreNLP/VnCoreNLP-1.1.1.jar\""
   ]
  },
  {
   "cell_type": "code",
   "execution_count": 2,
   "metadata": {},
   "outputs": [
    {
     "data": {
      "text/html": [
       "<div>\n",
       "<style scoped>\n",
       "    .dataframe tbody tr th:only-of-type {\n",
       "        vertical-align: middle;\n",
       "    }\n",
       "\n",
       "    .dataframe tbody tr th {\n",
       "        vertical-align: top;\n",
       "    }\n",
       "\n",
       "    .dataframe thead th {\n",
       "        text-align: right;\n",
       "    }\n",
       "</style>\n",
       "<table border=\"1\" class=\"dataframe\">\n",
       "  <thead>\n",
       "    <tr style=\"text-align: right;\">\n",
       "      <th></th>\n",
       "      <th>text</th>\n",
       "      <th>domain</th>\n",
       "      <th>label</th>\n",
       "    </tr>\n",
       "  </thead>\n",
       "  <tbody>\n",
       "    <tr>\n",
       "      <th>0</th>\n",
       "      <td>Thủ tướng Abe cúi đầu xin lỗi vì hành động phi...</td>\n",
       "      <td>binhluan.biz</td>\n",
       "      <td>1</td>\n",
       "    </tr>\n",
       "    <tr>\n",
       "      <th>1</th>\n",
       "      <td>Thủ tướng Nhật cúi đầu xin lỗi vì tinh thần ph...</td>\n",
       "      <td>www.ipick.vn</td>\n",
       "      <td>1</td>\n",
       "    </tr>\n",
       "    <tr>\n",
       "      <th>2</th>\n",
       "      <td>Choáng! Cơ trưởng đeo khăn quàng quẩy banh nóc...</td>\n",
       "      <td>tintucqpvn.net</td>\n",
       "      <td>1</td>\n",
       "    </tr>\n",
       "    <tr>\n",
       "      <th>3</th>\n",
       "      <td>Chưa bao giờ nhạc Kpop lại dễ hát đến thế!!!\\n...</td>\n",
       "      <td>tintucqpvn.net</td>\n",
       "      <td>1</td>\n",
       "    </tr>\n",
       "    <tr>\n",
       "      <th>4</th>\n",
       "      <td>Đại học Hutech sẽ áp dụng cải cách \"Tiếq Việt\"...</td>\n",
       "      <td>www.gioitreviet.net</td>\n",
       "      <td>1</td>\n",
       "    </tr>\n",
       "  </tbody>\n",
       "</table>\n",
       "</div>"
      ],
      "text/plain": [
       "                                                text               domain  \\\n",
       "0  Thủ tướng Abe cúi đầu xin lỗi vì hành động phi...         binhluan.biz   \n",
       "1  Thủ tướng Nhật cúi đầu xin lỗi vì tinh thần ph...         www.ipick.vn   \n",
       "2  Choáng! Cơ trưởng đeo khăn quàng quẩy banh nóc...       tintucqpvn.net   \n",
       "3  Chưa bao giờ nhạc Kpop lại dễ hát đến thế!!!\\n...       tintucqpvn.net   \n",
       "4  Đại học Hutech sẽ áp dụng cải cách \"Tiếq Việt\"...  www.gioitreviet.net   \n",
       "\n",
       "   label  \n",
       "0      1  \n",
       "1      1  \n",
       "2      1  \n",
       "3      1  \n",
       "4      1  "
      ]
     },
     "execution_count": 2,
     "metadata": {},
     "output_type": "execute_result"
    }
   ],
   "source": [
    "data_df = pd.read_csv(\"vfnd/CSV/vn_news_223_tdlfr.csv\")\n",
    "data_df.head()"
   ]
  },
  {
   "cell_type": "code",
   "execution_count": 3,
   "metadata": {},
   "outputs": [
    {
     "name": "stdout",
     "output_type": "stream",
     "text": [
      "<class 'pandas.core.frame.DataFrame'>\n",
      "RangeIndex: 223 entries, 0 to 222\n",
      "Data columns (total 3 columns):\n",
      " #   Column  Non-Null Count  Dtype \n",
      "---  ------  --------------  ----- \n",
      " 0   text    223 non-null    object\n",
      " 1   domain  223 non-null    object\n",
      " 2   label   223 non-null    int64 \n",
      "dtypes: int64(1), object(2)\n",
      "memory usage: 5.4+ KB\n"
     ]
    }
   ],
   "source": [
    "data_df.info()"
   ]
  },
  {
   "cell_type": "markdown",
   "metadata": {},
   "source": [
    "#### List of vietnamese stopwords"
   ]
  },
  {
   "cell_type": "code",
   "execution_count": null,
   "metadata": {},
   "outputs": [],
   "source": [
    "vn_stopwords = []\n",
    "with open('data/vietnamese_stopwords_dash.txt', encoding=\"utf8\") as file:\n",
    "    for line in file.read().splitlines():\n",
    "        vn_stopwords.append(line.strip())"
   ]
  },
  {
   "cell_type": "markdown",
   "metadata": {},
   "source": [
    "#### Dữ liệu có bị lặp không"
   ]
  },
  {
   "cell_type": "code",
   "execution_count": 4,
   "metadata": {},
   "outputs": [
    {
     "data": {
      "text/plain": [
       "0"
      ]
     },
     "execution_count": 4,
     "metadata": {},
     "output_type": "execute_result"
    }
   ],
   "source": [
    "data_df.index.duplicated().sum()"
   ]
  },
  {
   "cell_type": "code",
   "execution_count": 5,
   "metadata": {},
   "outputs": [
    {
     "data": {
      "text/plain": [
       "text      0\n",
       "domain    0\n",
       "label     0\n",
       "dtype: int64"
      ]
     },
     "execution_count": 5,
     "metadata": {},
     "output_type": "execute_result"
    }
   ],
   "source": [
    "data_df.isnull().sum()"
   ]
  },
  {
   "cell_type": "code",
   "execution_count": 32,
   "metadata": {},
   "outputs": [
    {
     "data": {
      "text/plain": [
       "'Choáng! Cơ trưởng đeo khăn quàng quẩy banh nóc trên sân khấu trường!!!\\nXót xa hình ảnh thầy trò lội bùn băng rừng đến trường ở Nghệ An\\nSau lũ, nhiều học sinh vùng cao và giáo viên ở Nghệ An phải đối mặt với thiếu thốn vì giao thông bị chia cắt, cơ sở vật chất bị lũ cuốn trôi.\\nDưới đây là một số hình ảnh học sinh và giáo viên ở Nghệ An lội bùn băng rừng đến trường:\\nXã biên giới Mường Típ, Mường Ải, huyện miền núi Kỳ Sơn, Nghệ An là một trong những nơi đã bị lũ dữ ập đến. Nhiều đoạn đường, bị hàng ngàn khối đất đá sạt lở tràn lấp khiến nơi đây bị cô lập.\\nNhiều em học sinh phải lội bùn, băng rừng để đến trường trong hoàn cảnh khó khăn.\\nThầy Nguyễn Công Danh, Hiệu trưởng Trường Phổ thông dân tộc bán trú THCS Nập Típ (huyện Kỳ Sơn) cho biết, đến thời điểm hiện tại, các giáo viên của trường mới chỉ vận động được 184/387 học sinh THCS đến trường học và 180/197 học sinh ở bậc tiểu học đến trường học trở lại.\\nĐể đến trường với đoạn đường chưa đến 2km, nhiều em học sinh nơi đây phải trầy trựợt suốt hơn 2 giờ đồng hồ.\\nCác học sinh và giáo viên ở những nơi lũ đi qua, rất cần được sự giúp đỡ để vượt qua khó khăn này.\\nNguồn: https://giadinhvietnam.com/xot-xa-hinh-anh-thay-tro-loi-bun-bang-rung-den-truong-o-nghe-an-d132732.html'"
      ]
     },
     "execution_count": 32,
     "metadata": {},
     "output_type": "execute_result"
    }
   ],
   "source": [
    "test_str = data_df['text'][2]\n",
    "test_str"
   ]
  },
  {
   "cell_type": "code",
   "execution_count": 35,
   "metadata": {},
   "outputs": [
    {
     "data": {
      "text/plain": [
       "'choáng! cơ trưởng đeo khăn quàng quẩy banh nóc trên sân khấu trường!!!\\nxót xa hình ảnh thầy trò lội bùn băng rừng đến trường ở nghệ an\\nsau lũ, nhiều học sinh vùng cao và giáo viên ở nghệ an phải đối mặt với thiếu thốn vì giao thông bị chia cắt, cơ sở vật chất bị lũ cuốn trôi.\\ndưới đây là một số hình ảnh học sinh và giáo viên ở nghệ an lội bùn băng rừng đến trường:\\nxã biên giới mường típ, mường ải, huyện miền núi kỳ sơn, nghệ an là một trong những nơi đã bị lũ dữ ập đến. nhiều đoạn đường, bị hàng ngàn khối đất đá sạt lở tràn lấp khiến nơi đây bị cô lập.\\nnhiều em học sinh phải lội bùn, băng rừng để đến trường trong hoàn cảnh khó khăn.\\nthầy nguyễn công danh, hiệu trưởng trường phổ thông dân tộc bán trú thcs nập típ (huyện kỳ sơn) cho biết, đến thời điểm hiện tại, các giáo viên của trường mới chỉ vận động được 184/387 học sinh thcs đến trường học và 180/197 học sinh ở bậc tiểu học đến trường học trở lại.\\nđể đến trường với đoạn đường chưa đến 2km, nhiều em học sinh nơi đây phải trầy trựợt suốt hơn 2 giờ đồng hồ.\\ncác học sinh và giáo viên ở những nơi lũ đi qua, rất cần được sự giúp đỡ để vượt qua khó khăn này.\\nnguồn: https://giadinhvietnam.com/xot-xa-hinh-anh-thay-tro-loi-bun-bang-rung-den-truong-o-nghe-an-d132732.html'"
      ]
     },
     "execution_count": 35,
     "metadata": {},
     "output_type": "execute_result"
    }
   ],
   "source": [
    "test_str.lower()"
   ]
  },
  {
   "cell_type": "code",
   "execution_count": 39,
   "metadata": {},
   "outputs": [
    {
     "data": {
      "text/plain": [
       "'Choáng Cơ trưởng đeo khăn quàng quẩy banh nóc trên sân khấu trường Xót xa hình ảnh thầy trò lội bùn băng rừng đến trường ở Nghệ An Sau lũ nhiều học sinh vùng cao và giáo viên ở Nghệ An phải đối mặt với thiếu thốn vì giao thông bị chia cắt cơ sở vật chất bị lũ cuốn trôi Dưới đây là một số hình ảnh học sinh và giáo viên ở Nghệ An lội bùn băng rừng đến trường Xã biên giới Mường Típ Mường Ải huyện miền núi Kỳ Sơn Nghệ An là một trong những nơi đã bị lũ dữ ập đến Nhiều đoạn đường bị hàng ngàn khối đất đá sạt lở tràn lấp khiến nơi đây bị cô lập Nhiều em học sinh phải lội bùn băng rừng để đến trường trong hoàn cảnh khó khăn Thầy Nguyễn Công Danh Hiệu trưởng Trường Phổ thông dân tộc bán trú THCS Nập Típ huyện Kỳ Sơn cho biết đến thời điểm hiện tại các giáo viên của trường mới chỉ vận động được 184 387 học sinh THCS đến trường học và 180 197 học sinh ở bậc tiểu học đến trường học trở lại Để đến trường với đoạn đường chưa đến 2km nhiều em học sinh nơi đây phải trầy trựợt suốt hơn 2 giờ đồng hồ Các học sinh và giáo viên ở những nơi lũ đi qua rất cần được sự giúp đỡ để vượt qua khó khăn này Nguồn'"
      ]
     },
     "execution_count": 39,
     "metadata": {},
     "output_type": "execute_result"
    }
   ],
   "source": [
    "# Remove links\n",
    "test_str = re.sub(r'''(?i)\\b((?:https?://|www\\d{0,3}[.]|[a-z0-9.\\-]+[.][a-z]{2,4}/)(?:[^\\s()<>]+|\\(([^\\s()<>]+|(\\([^\\s()<>]+\\)))*\\))+(?:\\(([^\\s()<>]+|(\\([^\\s()<>]+\\)))*\\)|[^\\s`!()\\[\\]{};:'\".,<>?«»“”‘’]))''', \" \", test_str)\n",
    "# Remove all special characters and punctuation\n",
    "test_str = re.sub('\\W+',' ', test_str)\n",
    "test_str = test_str.strip()\n",
    "test_str"
   ]
  },
  {
   "cell_type": "code",
   "execution_count": 44,
   "metadata": {},
   "outputs": [],
   "source": [
    "annotator = VnCoreNLP(vncorenlp_file, annotators=\"wseg,pos,ner,parse\", max_heap_size='-Xmx2g')\n",
    "with annotator:\n",
    "    tokenized_text = annotator.tokenize(test_str)\n",
    "    tokenized_text"
   ]
  },
  {
   "cell_type": "code",
   "execution_count": 50,
   "metadata": {},
   "outputs": [
    {
     "name": "stdout",
     "output_type": "stream",
     "text": [
      "192\n",
      "114\n"
     ]
    }
   ],
   "source": [
    "# Remove stop words\n",
    "filtered_word = [w for w in tokenized_text[0] if not w in vn_stopwords]\n",
    "print(len(tokenized_text[0]))\n",
    "print(len(filtered_word))"
   ]
  },
  {
   "cell_type": "code",
   "execution_count": null,
   "metadata": {},
   "outputs": [],
   "source": []
  },
  {
   "cell_type": "code",
   "execution_count": null,
   "metadata": {},
   "outputs": [],
   "source": []
  },
  {
   "cell_type": "markdown",
   "metadata": {},
   "source": [
    "### EDA"
   ]
  },
  {
   "cell_type": "markdown",
   "metadata": {},
   "source": [
    "### Build model"
   ]
  },
  {
   "cell_type": "markdown",
   "metadata": {},
   "source": [
    "### Deploy"
   ]
  }
 ],
 "metadata": {
  "interpreter": {
   "hash": "628dd01b888ab9cdfddc3a0771c5db8a998a3af968dbb11740c2370c8ddf1b03"
  },
  "kernelspec": {
   "display_name": "Python 3.8.8 64-bit ('min_ds-env': conda)",
   "language": "python",
   "name": "python3"
  },
  "language_info": {
   "codemirror_mode": {
    "name": "ipython",
    "version": 3
   },
   "file_extension": ".py",
   "mimetype": "text/x-python",
   "name": "python",
   "nbconvert_exporter": "python",
   "pygments_lexer": "ipython3",
   "version": "3.8.8"
  },
  "orig_nbformat": 4
 },
 "nbformat": 4,
 "nbformat_minor": 2
}
